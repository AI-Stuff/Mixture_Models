{
 "cells": [
  {
   "cell_type": "code",
   "execution_count": 1,
   "metadata": {
    "collapsed": false
   },
   "outputs": [
    {
     "name": "stdout",
     "output_type": "stream",
     "text": [
      "2017-04-24T07:50:00-06:00\n",
      "\n",
      "CPython 3.6.0\n",
      "IPython 5.1.0\n",
      "\n",
      "compiler   : GCC 4.4.7 20120313 (Red Hat 4.4.7-1)\n",
      "system     : Linux\n",
      "release    : 4.4.0-72-generic\n",
      "machine    : x86_64\n",
      "processor  : x86_64\n",
      "CPU cores  : 8\n",
      "interpreter: 64bit\n",
      "\n",
      "pandas 0.19.2\n",
      "pandas_datareader 0.3.0.post\n",
      "numpy 1.12.1\n",
      "scipy 0.19.0\n",
      "sklearn 0.18.1\n",
      "matplotlib 2.0.0\n",
      "seaborn 0.7.1\n"
     ]
    }
   ],
   "source": [
    "%load_ext watermark\n",
    "%watermark\n",
    "import copy\n",
    "import pickle\n",
    "import os\n",
    "\n",
    "import pandas as pd\n",
    "import pandas_datareader.data as web\n",
    "import numpy as np\n",
    "import sklearn.mixture as mix\n",
    "from sklearn.externals import joblib\n",
    "import scipy.stats as scs\n",
    "from math import ceil\n",
    "\n",
    "import matplotlib as mpl\n",
    "import matplotlib.pyplot as plt\n",
    "from matplotlib.dates import YearLocator, MonthLocator\n",
    "%matplotlib inline\n",
    "\n",
    "import seaborn as sns\n",
    "import missingno as msno\n",
    "from tqdm import tqdm\n",
    "\n",
    "import warnings\n",
    "warnings.filterwarnings(\"ignore\")\n",
    "import affirm \n",
    "\n",
    "sns.set(font_scale=1.25)\n",
    "style_kwds = {'xtick.major.size': 3, 'ytick.major.size': 3,\n",
    "              'font.family':u'CamingoCode', 'legend.frameon': True}\n",
    "sns.set_style('white', style_kwds)\n",
    "\n",
    "p=print\n",
    "p()\n",
    "%watermark -p pandas,pandas_datareader,numpy,scipy,sklearn,matplotlib,seaborn"
   ]
  },
  {
   "cell_type": "code",
   "execution_count": null,
   "metadata": {
    "collapsed": true
   },
   "outputs": [],
   "source": [
    "def get_etf_data(mkt, start, end):\n",
    "    \"\"\"Function to get benchmark data from \n",
    "        Yahoo and Factor data from FRED\n",
    "    \n",
    "    Params:\n",
    "        mkt : str(), symbol\n",
    "        start : pd.DateTime()\n",
    "        end : pd.DateTime()\n",
    "        factors : list() of str()\n",
    "    Returns:\n",
    "        data : pd.DataFrame()\n",
    "    \"\"\"\n",
    "    MKT = (web.DataReader([mkt], 'yahoo', start, end)['Adj Close']\n",
    "           .rename(columns={mkt:mkt})\n",
    "           .assign(lret=lambda x: np.log(x[mkt]/x[mkt].shift(1)))\n",
    "           .rename(columns={'lret':mkt+'_lret'}))\n",
    "           #.dropna())\n",
    "    # data = data.resample('1W').mean()\n",
    "    return MKT \n",
    "\n",
    "def get_fred_data(factors, start, end):\n",
    "    \"\"\"Function to get Factor data from FRED\n",
    "    \n",
    "    Params:\n",
    "        factors : list() of str()    \n",
    "        start : pd.DateTime()\n",
    "        end : pd.DateTime()\n",
    "    Returns:\n",
    "        data : pd.DataFrame()\n",
    "    \"\"\"\n",
    "\n",
    "    data = (web.DataReader(factors, 'fred', start, end))\n",
    "            #.dropna())\n",
    "    return data      "
   ]
  },
  {
   "cell_type": "code",
   "execution_count": 2,
   "metadata": {
    "collapsed": false
   },
   "outputs": [],
   "source": [
    "DIR = '/home/cam/Documents/Brian_/HDD_folders/_Code/Mixture_Models/BottomPicking/'"
   ]
  },
  {
   "cell_type": "code",
   "execution_count": 3,
   "metadata": {
    "collapsed": false
   },
   "outputs": [
    {
     "name": "stdout",
     "output_type": "stream",
     "text": [
      "CPU times: user 0 ns, sys: 4 ms, total: 4 ms\n",
      "Wall time: 15.7 ms\n"
     ]
    }
   ],
   "source": [
    "%%time\n",
    "# Project Directory\n",
    "DIR = '/home/cam/Documents/Brian_/HDD_folders/_Code/Mixture_Models/BottomPicking/'\n",
    "#DIR = '/home/bcr/anaconda3/code_/Mixture_Models/'\n",
    "# get fed data\n",
    "f1 = 'TEDRATE' # ted spread\n",
    "f2 = 'T10Y2Y' # constant maturity ten yer - 2 year\n",
    "f3 = 'T10Y3M' # constant maturity 10yr - 3m\n",
    "factors = [f1, f2, f3]\n",
    "\n",
    "start = pd.to_datetime('2003-12-31')\n",
    "end = pd.to_datetime('2017-01-01')"
   ]
  },
  {
   "cell_type": "code",
   "execution_count": 22,
   "metadata": {
    "collapsed": false,
    "scrolled": true
   },
   "outputs": [
    {
     "name": "stdout",
     "output_type": "stream",
     "text": [
      "<class 'pandas.core.frame.DataFrame'>\n",
      "DatetimeIndex: 2449 entries, 2007-01-08 to 2016-12-30\n",
      "Data columns (total 53 columns):\n",
      "SPY          2449 non-null float64\n",
      "SPY_lret     2449 non-null float64\n",
      "DIA          2449 non-null float64\n",
      "DIA_lret     2449 non-null float64\n",
      "QQQ          2449 non-null float64\n",
      "QQQ_lret     2449 non-null float64\n",
      "GLD          2449 non-null float64\n",
      "GLD_lret     2449 non-null float64\n",
      "TLT          2449 non-null float64\n",
      "TLT_lret     2449 non-null float64\n",
      "EEM          2449 non-null float64\n",
      "EEM_lret     2449 non-null float64\n",
      "FEZ          2449 non-null float64\n",
      "FEZ_lret     2449 non-null float64\n",
      "EZU          2449 non-null float64\n",
      "EZU_lret     2449 non-null float64\n",
      "VGK          2449 non-null float64\n",
      "VGK_lret     2449 non-null float64\n",
      "EWG          2449 non-null float64\n",
      "EWG_lret     2449 non-null float64\n",
      "EWA          2449 non-null float64\n",
      "EWA_lret     2449 non-null float64\n",
      "EWC          2449 non-null float64\n",
      "EWC_lret     2449 non-null float64\n",
      "EWH          2449 non-null float64\n",
      "EWH_lret     2449 non-null float64\n",
      "EWJ          2449 non-null float64\n",
      "EWJ_lret     2449 non-null float64\n",
      "EWU          2449 non-null float64\n",
      "EWU_lret     2449 non-null float64\n",
      "EFA          2449 non-null float64\n",
      "EFA_lret     2449 non-null float64\n",
      "DBC          2449 non-null float64\n",
      "DBC_lret     2449 non-null float64\n",
      "DBA          2449 non-null float64\n",
      "DBA_lret     2449 non-null float64\n",
      "USO          2449 non-null float64\n",
      "USO_lret     2449 non-null float64\n",
      "IGE          2449 non-null float64\n",
      "IGE_lret     2449 non-null float64\n",
      "GDX          2449 non-null float64\n",
      "GDX_lret     2449 non-null float64\n",
      "XME          2449 non-null float64\n",
      "XME_lret     2449 non-null float64\n",
      "^TYX         2449 non-null float64\n",
      "^TYX_lret    2449 non-null float64\n",
      "^TNX         2449 non-null float64\n",
      "^TNX_lret    2449 non-null float64\n",
      "^FVX         2449 non-null float64\n",
      "^FVX_lret    2449 non-null float64\n",
      "TEDRATE      2449 non-null float64\n",
      "T10Y2Y       2449 non-null float64\n",
      "T10Y3M       2449 non-null float64\n",
      "dtypes: float64(53)\n",
      "memory usage: 1.0 MB\n",
      "None\n",
      "                   SPY  SPY_lret        DIA  DIA_lret        QQQ  QQQ_lret  \\\n",
      "2007-01-08  114.166557  0.004614  96.365725  0.003227  39.978095  0.000684   \n",
      "2007-01-09  114.069529 -0.000850  96.311386 -0.000564  40.178529  0.005001   \n",
      "2007-01-10  114.449560  0.003326  96.590843  0.002897  40.652290  0.011722   \n",
      "2007-01-11  114.950902  0.004371  97.025550  0.004490  41.071389  0.010257   \n",
      "2007-01-12  115.824194  0.007568  97.545653  0.005346  41.280936  0.005089   \n",
      "\n",
      "                  GLD  GLD_lret        TLT  TLT_lret   ...    XME_lret   ^TYX  \\\n",
      "2007-01-08  60.480000  0.005139  63.186032  0.001792   ...    0.010159  4.740   \n",
      "2007-01-09  60.849998  0.006099  63.186032  0.000000   ...   -0.011436  4.738   \n",
      "2007-01-10  60.590000 -0.004282  62.903224 -0.004486   ...    0.011857  4.770   \n",
      "2007-01-11  60.630001  0.000660  62.535573 -0.005862   ...    0.009010  4.822   \n",
      "2007-01-12  62.169998  0.025083  62.245699 -0.004646   ...    0.021666  4.861   \n",
      "\n",
      "            ^TYX_lret   ^TNX  ^TNX_lret   ^FVX  ^FVX_lret  TEDRATE  T10Y2Y  \\\n",
      "2007-01-08  -0.000633  4.660   0.003009  4.658   0.003010     0.41   -0.12   \n",
      "2007-01-09  -0.000422  4.656  -0.000859  4.655  -0.000644     0.41   -0.13   \n",
      "2007-01-10   0.006731  4.682   0.005569  4.671   0.003431     0.40   -0.12   \n",
      "2007-01-11   0.010842  4.737   0.011679  4.724   0.011283     0.38   -0.12   \n",
      "2007-01-12   0.008055  4.771   0.007152  4.759   0.007382     0.40   -0.11   \n",
      "\n",
      "            T10Y3M  \n",
      "2007-01-08   -0.42  \n",
      "2007-01-09   -0.42  \n",
      "2007-01-10   -0.40  \n",
      "2007-01-11   -0.37  \n",
      "2007-01-12   -0.32  \n",
      "\n",
      "[5 rows x 53 columns]\n"
     ]
    }
   ],
   "source": [
    "# get data and save to disk\n",
    "list_dfs = []\n",
    "for mkt in symbols:\n",
    "    tmp_data = get_etf_data(mkt, start, end)\n",
    "    list_dfs.append(tmp_data)\n",
    "\n",
    "agg_etf_data = pd.concat(list_dfs, axis=1, join='inner')\n",
    "fred_data = get_fred_data(factors, start, end)\n",
    "\n",
    "mrg_data = agg_etf_data.join(fred_data, how='inner').dropna()\n",
    "p(mrg_data.info())\n",
    "p(mrg_data.head())\n",
    "\n",
    "mrg_data.to_hdf(DIR+'mixture_model_merged_data_01.h5', 'table')    "
   ]
  },
  {
   "cell_type": "code",
   "execution_count": 4,
   "metadata": {
    "collapsed": false,
    "scrolled": true
   },
   "outputs": [
    {
     "name": "stdout",
     "output_type": "stream",
     "text": [
      "<class 'pandas.core.frame.DataFrame'>\n",
      "DatetimeIndex: 2970 entries, 2004-11-19 to 2016-12-30\n",
      "Data columns (total 15 columns):\n",
      "SPY         2970 non-null float64\n",
      "SPY_lret    2970 non-null float64\n",
      "QQQ         2970 non-null float64\n",
      "QQQ_lret    2970 non-null float64\n",
      "TLT         2970 non-null float64\n",
      "TLT_lret    2970 non-null float64\n",
      "GLD         2970 non-null float64\n",
      "GLD_lret    2970 non-null float64\n",
      "EFA         2970 non-null float64\n",
      "EFA_lret    2970 non-null float64\n",
      "EEM         2970 non-null float64\n",
      "EEM_lret    2970 non-null float64\n",
      "TEDRATE     2970 non-null float64\n",
      "T10Y2Y      2970 non-null float64\n",
      "T10Y3M      2970 non-null float64\n",
      "dtypes: float64(15)\n",
      "memory usage: 371.2 KB\n",
      "None\n"
     ]
    }
   ],
   "source": [
    "# show johnsonSU vs Normal for a slide  \n",
    "\n",
    "#%load_ext line_profiler\n",
    "data = pd.read_hdf(DIR+'mixture_model_merged_data_03.h5', 'table')\n",
    "p(data.info())\n",
    "# filename convention\n",
    "# k-XX-lb-X-step-X-nsamples-XXXX\n",
    "def _create_dir(DIR, k, lookback, step_fwd, nSamples, year):\n",
    "    dir_fmt = f'k-{k}_lb-{lookback}_step-{step_fwd}_nsamples-{nSamples}'\n",
    "    if os.path.isdir(DIR + dir_fmt + '/'): \n",
    "        pass\n",
    "    else: os.makedirs(DIR + dir_fmt + '/')\n",
    "    return dir_fmt"
   ]
  },
  {
   "cell_type": "code",
   "execution_count": 13,
   "metadata": {
    "collapsed": false
   },
   "outputs": [
    {
     "data": {
      "image/png": "[encoded data removed]",
      "text/plain": [
       "<matplotlib.figure.Figure at 0x7ff882b14cc0>"
      ]
     },
     "metadata": {},
     "output_type": "display_data"
    }
   ],
   "source": [
    "ret_col = [x for x in data.columns if '_lret' in x]\n",
    "test_cols = ret_col + factors\n",
    "corr = data[test_cols].corr()\n",
    "\n",
    "fig, ax = plt.subplots(figsize=(10, 7))\n",
    "sns.heatmap(corr, square=True, ax=ax)\n",
    "plt.title('ETF and factor correlations')\n",
    "fig.savefig(DIR + 'ETF and factor correlations.png', dpi=300, bbox_inches=\"tight\")"
   ]
  },
  {
   "cell_type": "code",
   "execution_count": 8,
   "metadata": {
    "collapsed": false,
    "scrolled": true
   },
   "outputs": [
    {
     "name": "stdout",
     "output_type": "stream",
     "text": [
      "fitting: SPY\n"
     ]
    },
    {
     "ename": "NameError",
     "evalue": "name 'ModelRunner' is not defined",
     "output_type": "error",
     "traceback": [
      "\u001b[0;31m---------------------------------------------------------------------------\u001b[0m",
      "\u001b[0;31mNameError\u001b[0m                                 Traceback (most recent call last)",
      "\u001b[0;32m<ipython-input-8-f7ae115bdfaa>\u001b[0m in \u001b[0;36m<module>\u001b[0;34m()\u001b[0m\n\u001b[0;32m----> 1\u001b[0;31m \u001b[0mget_ipython\u001b[0m\u001b[0;34m(\u001b[0m\u001b[0;34m)\u001b[0m\u001b[0;34m.\u001b[0m\u001b[0mrun_cell_magic\u001b[0m\u001b[0;34m(\u001b[0m\u001b[0;34m'time'\u001b[0m\u001b[0;34m,\u001b[0m \u001b[0;34m''\u001b[0m\u001b[0;34m,\u001b[0m \u001b[0;34m\"\\n## AGGREGATE PREDICTIONS FIRST; THEN RUN EVALS AND PLOTS AFTER DON'T COMBINE THE LOOP\\n\\n#DIR2 = '/home/cam/Documents/Brian_/HDD_folders/_Code/Mixture_Models/BottomPicking/' #stocks_lookback1step1k16/'\\n\\nsmmrys = []\\nsmmrys_k = []\\n\\ndcts = []\\ndcts_k = []\\n\\npostev = []\\npostev_k = []\\n\\nevs = []\\nevs_k = []\\n\\nagg_dfs = []\\nagg_dfs_k = []\\n\\n# Model Params\\n# ------------\\na, b = (.2, .7) # found via coarse parameter search\\nalpha = 0.99\\nmax_iter = 50\\n#k = 3 # n_components\\ninit = 'random' # or 'kmeans'\\nnSamples = 1_000\\n#bins = 100\\nyear = 2007 # cutoff\\nlookback = 1 # years\\nstep_fwd = 3 # days\\nks = [2,3,5,7,9,13,17,21]\\nless_syms = ['SPY', 'QQQ', 'TLT', 'GLD', 'EFA', 'EEM', 'DBC']\\nfor k in ks:\\n    file_fmt = _create_dir(DIR, k, lookback, step_fwd, nSamples, year)\\n    for mkt in less_syms:\\n        p('fitting:', mkt)\\n        ft_cols = [mkt + '_lret'] + factors\\n\\n        MR_kwds = dict(ft_cols=ft_cols, k=k, init=init, max_iter=max_iter)\\n        # NOTE this still walks forward by day how?\\n        #tmp_data = data.copy().resample('1W').mean()\\n        MR = ModelRunner(data, **MR_kwds)\\n        dct = MR.prediction_cycle(year, alpha, a, b, nSamples)\\n        dcts.append((mkt, dct))\\n        dcts_k.append((k, mkt, dct))\\n        #p(dct['pred'].head())\\n\\n        res = ResultEval(mkt, dct, step_fwd=step_fwd)\\n        event_dict = res._get_event_states()\\n        event = list(event_dict.keys())[1] #[1] # TOO_LOW\\n\\n        post_events = res.get_post_events(event_dict[event])\\n        end_vals = res.get_end_vals(post_events)\\n        smry = res.create_summary(end_vals)\\n\\n        postev.append((mkt, post_events))\\n        postev_k.append((mkt, post_events))\\n        evs.append((mkt, end_vals))\\n        evs_k.append((k, mkt, end_vals))\\n        smmrys.append((mkt, smry))\\n        smmrys_k.append((k, mkt, smry))\\n\\n        p()\\n        p('*'*25)\\n        p(mkt, event.upper())\\n        p(smry.T)  \\n\\n        mp = ModelPlots(mkt, post_events, event, DIR, file_fmt, year)\\n        agg_tmp_df = mp._agg_temp_event_returns()\\n        agg_dfs.append((mkt, agg_tmp_df))\\n        agg_dfs_k.append((k, mkt, agg_tmp_df))\\n\\n        mp.plot_pred_results(dct['pred'], dct['year'], dct['a'], dct['b'])\\n        mp.plot_equity_curve(benchmark=data['SPY_lret'])\\n        mp.plot_distplot(end_vals, smry)\"\u001b[0m\u001b[0;34m)\u001b[0m\u001b[0;34m\u001b[0m\u001b[0m\n\u001b[0m",
      "\u001b[0;32m/home/cam/Documents/Brian_/HDD_folders/anaconda3/lib/python3.6/site-packages/IPython/core/interactiveshell.py\u001b[0m in \u001b[0;36mrun_cell_magic\u001b[0;34m(self, magic_name, line, cell)\u001b[0m\n\u001b[1;32m   2113\u001b[0m             \u001b[0mmagic_arg_s\u001b[0m \u001b[0;34m=\u001b[0m \u001b[0mself\u001b[0m\u001b[0;34m.\u001b[0m\u001b[0mvar_expand\u001b[0m\u001b[0;34m(\u001b[0m\u001b[0mline\u001b[0m\u001b[0;34m,\u001b[0m \u001b[0mstack_depth\u001b[0m\u001b[0;34m)\u001b[0m\u001b[0;34m\u001b[0m\u001b[0m\n\u001b[1;32m   2114\u001b[0m             \u001b[0;32mwith\u001b[0m \u001b[0mself\u001b[0m\u001b[0;34m.\u001b[0m\u001b[0mbuiltin_trap\u001b[0m\u001b[0;34m:\u001b[0m\u001b[0;34m\u001b[0m\u001b[0m\n\u001b[0;32m-> 2115\u001b[0;31m                 \u001b[0mresult\u001b[0m \u001b[0;34m=\u001b[0m \u001b[0mfn\u001b[0m\u001b[0;34m(\u001b[0m\u001b[0mmagic_arg_s\u001b[0m\u001b[0;34m,\u001b[0m \u001b[0mcell\u001b[0m\u001b[0;34m)\u001b[0m\u001b[0;34m\u001b[0m\u001b[0m\n\u001b[0m\u001b[1;32m   2116\u001b[0m             \u001b[0;32mreturn\u001b[0m \u001b[0mresult\u001b[0m\u001b[0;34m\u001b[0m\u001b[0m\n\u001b[1;32m   2117\u001b[0m \u001b[0;34m\u001b[0m\u001b[0m\n",
      "\u001b[0;32m<decorator-gen-59>\u001b[0m in \u001b[0;36mtime\u001b[0;34m(self, line, cell, local_ns)\u001b[0m\n",
      "\u001b[0;32m/home/cam/Documents/Brian_/HDD_folders/anaconda3/lib/python3.6/site-packages/IPython/core/magic.py\u001b[0m in \u001b[0;36m<lambda>\u001b[0;34m(f, *a, **k)\u001b[0m\n\u001b[1;32m    186\u001b[0m     \u001b[0;31m# but it's overkill for just that one bit of state.\u001b[0m\u001b[0;34m\u001b[0m\u001b[0;34m\u001b[0m\u001b[0m\n\u001b[1;32m    187\u001b[0m     \u001b[0;32mdef\u001b[0m \u001b[0mmagic_deco\u001b[0m\u001b[0;34m(\u001b[0m\u001b[0marg\u001b[0m\u001b[0;34m)\u001b[0m\u001b[0;34m:\u001b[0m\u001b[0;34m\u001b[0m\u001b[0m\n\u001b[0;32m--> 188\u001b[0;31m         \u001b[0mcall\u001b[0m \u001b[0;34m=\u001b[0m \u001b[0;32mlambda\u001b[0m \u001b[0mf\u001b[0m\u001b[0;34m,\u001b[0m \u001b[0;34m*\u001b[0m\u001b[0ma\u001b[0m\u001b[0;34m,\u001b[0m \u001b[0;34m**\u001b[0m\u001b[0mk\u001b[0m\u001b[0;34m:\u001b[0m \u001b[0mf\u001b[0m\u001b[0;34m(\u001b[0m\u001b[0;34m*\u001b[0m\u001b[0ma\u001b[0m\u001b[0;34m,\u001b[0m \u001b[0;34m**\u001b[0m\u001b[0mk\u001b[0m\u001b[0;34m)\u001b[0m\u001b[0;34m\u001b[0m\u001b[0m\n\u001b[0m\u001b[1;32m    189\u001b[0m \u001b[0;34m\u001b[0m\u001b[0m\n\u001b[1;32m    190\u001b[0m         \u001b[0;32mif\u001b[0m \u001b[0mcallable\u001b[0m\u001b[0;34m(\u001b[0m\u001b[0marg\u001b[0m\u001b[0;34m)\u001b[0m\u001b[0;34m:\u001b[0m\u001b[0;34m\u001b[0m\u001b[0m\n",
      "\u001b[0;32m/home/cam/Documents/Brian_/HDD_folders/anaconda3/lib/python3.6/site-packages/IPython/core/magics/execution.py\u001b[0m in \u001b[0;36mtime\u001b[0;34m(self, line, cell, local_ns)\u001b[0m\n\u001b[1;32m   1178\u001b[0m         \u001b[0;32melse\u001b[0m\u001b[0;34m:\u001b[0m\u001b[0;34m\u001b[0m\u001b[0m\n\u001b[1;32m   1179\u001b[0m             \u001b[0mst\u001b[0m \u001b[0;34m=\u001b[0m \u001b[0mclock2\u001b[0m\u001b[0;34m(\u001b[0m\u001b[0;34m)\u001b[0m\u001b[0;34m\u001b[0m\u001b[0m\n\u001b[0;32m-> 1180\u001b[0;31m             \u001b[0mexec\u001b[0m\u001b[0;34m(\u001b[0m\u001b[0mcode\u001b[0m\u001b[0;34m,\u001b[0m \u001b[0mglob\u001b[0m\u001b[0;34m,\u001b[0m \u001b[0mlocal_ns\u001b[0m\u001b[0;34m)\u001b[0m\u001b[0;34m\u001b[0m\u001b[0m\n\u001b[0m\u001b[1;32m   1181\u001b[0m             \u001b[0mend\u001b[0m \u001b[0;34m=\u001b[0m \u001b[0mclock2\u001b[0m\u001b[0;34m(\u001b[0m\u001b[0;34m)\u001b[0m\u001b[0;34m\u001b[0m\u001b[0m\n\u001b[1;32m   1182\u001b[0m             \u001b[0mout\u001b[0m \u001b[0;34m=\u001b[0m \u001b[0;32mNone\u001b[0m\u001b[0;34m\u001b[0m\u001b[0m\n",
      "\u001b[0;32m<timed exec>\u001b[0m in \u001b[0;36m<module>\u001b[0;34m()\u001b[0m\n",
      "\u001b[0;31mNameError\u001b[0m: name 'ModelRunner' is not defined"
     ]
    }
   ],
   "source": [
    "%%time\n",
    "\n",
    "## AGGREGATE PREDICTIONS FIRST; THEN RUN EVALS AND PLOTS AFTER DON'T COMBINE THE LOOP\n",
    "\n",
    "#DIR2 = '/home/cam/Documents/Brian_/HDD_folders/_Code/Mixture_Models/BottomPicking/' #stocks_lookback1step1k16/'\n",
    "\n",
    "smmrys = []\n",
    "smmrys_k = []\n",
    "\n",
    "dcts = []\n",
    "dcts_k = []\n",
    "\n",
    "postev = []\n",
    "postev_k = []\n",
    "\n",
    "evs = []\n",
    "evs_k = []\n",
    "\n",
    "agg_dfs = []\n",
    "agg_dfs_k = []\n",
    "\n",
    "# Model Params\n",
    "# ------------\n",
    "a, b = (.2, .7) # found via coarse parameter search\n",
    "alpha = 0.99\n",
    "max_iter = 50\n",
    "#k = 3 # n_components\n",
    "init = 'random' # or 'kmeans'\n",
    "nSamples = 1_000\n",
    "#bins = 100\n",
    "year = 2007 # cutoff\n",
    "lookback = 1 # years\n",
    "step_fwd = 3 # days\n",
    "ks = [2,3,5,7,9,13,17,21]\n",
    "less_syms = ['SPY', 'QQQ', 'TLT', 'GLD', 'EFA', 'EEM', 'DBC']\n",
    "for k in ks:\n",
    "    file_fmt = _create_dir(DIR, k, lookback, step_fwd, nSamples, year)\n",
    "    for mkt in less_syms:\n",
    "        p('fitting:', mkt)\n",
    "        ft_cols = [mkt + '_lret'] + factors\n",
    "\n",
    "        MR_kwds = dict(ft_cols=ft_cols, k=k, init=init, max_iter=max_iter)\n",
    "        # NOTE this still walks forward by day how?\n",
    "        #tmp_data = data.copy().resample('1W').mean()\n",
    "        MR = ModelRunner(data, **MR_kwds)\n",
    "        dct = MR.prediction_cycle(year, alpha, a, b, nSamples)\n",
    "        dcts.append((mkt, dct))\n",
    "        dcts_k.append((k, mkt, dct))\n",
    "        #p(dct['pred'].head())\n",
    "\n",
    "        res = ResultEval(mkt, dct, step_fwd=step_fwd)\n",
    "        event_dict = res._get_event_states()\n",
    "        event = list(event_dict.keys())[1] #[1] # TOO_LOW\n",
    "\n",
    "        post_events = res.get_post_events(event_dict[event])\n",
    "        end_vals = res.get_end_vals(post_events)\n",
    "        smry = res.create_summary(end_vals)\n",
    "\n",
    "        postev.append((mkt, post_events))\n",
    "        postev_k.append((mkt, post_events))\n",
    "        evs.append((mkt, end_vals))\n",
    "        evs_k.append((k, mkt, end_vals))\n",
    "        smmrys.append((mkt, smry))\n",
    "        smmrys_k.append((k, mkt, smry))\n",
    "\n",
    "        p()\n",
    "        p('*'*25)\n",
    "        p(mkt, event.upper())\n",
    "        p(smry.T)  \n",
    "\n",
    "        mp = ModelPlots(mkt, post_events, event, DIR, file_fmt, year)\n",
    "        agg_tmp_df = mp._agg_temp_event_returns()\n",
    "        agg_dfs.append((mkt, agg_tmp_df))\n",
    "        agg_dfs_k.append((k, mkt, agg_tmp_df))\n",
    "\n",
    "        mp.plot_pred_results(dct['pred'], dct['year'], dct['a'], dct['b'])\n",
    "        mp.plot_equity_curve(benchmark=data['SPY_lret'])\n",
    "        mp.plot_distplot(end_vals, smry)"
   ]
  },
  {
   "cell_type": "code",
   "execution_count": 16,
   "metadata": {
    "collapsed": false
   },
   "outputs": [],
   "source": [
    "import pickle\n",
    "smmry_f = f'stocks-lb{lookback}_s{step_fwd}_k{k}_smmrys.txt'\n",
    "dcts_f = f'stocks-lb{lookback}_s{step_fwd}_k{k}_dcts.txt'\n",
    "postev_f = f'stocks-lb{lookback}_s{step_fwd}_k{k}_postev.txt'\n",
    "evs_f = f'stocks-lb{lookback}_s{step_fwd}_k{k}_evs.txt'\n",
    "agg_dfs_f = f'stocks-lb{lookback}_s{step_fwd}_k{k}_agg_dfs.txt'"
   ]
  },
  {
   "cell_type": "code",
   "execution_count": 17,
   "metadata": {
    "collapsed": false
   },
   "outputs": [
    {
     "data": {
      "text/plain": [
       "'/home/cam/Documents/Brian_/HDD_folders/_Code/Mixture_Models/BottomPicking/four_etf_agg_ks/smmrys_k-multiple_lb-1_step-3_nsamples-1000.txt'"
      ]
     },
     "execution_count": 17,
     "metadata": {},
     "output_type": "execute_result"
    }
   ],
   "source": [
    "pkl_loc = '/home/cam/Documents/Brian_/HDD_folders/_Code/Mixture_Models/BottomPicking/four_etf_agg_ks/'\n",
    "f_suffix = f'k-multiple_lb-{lookback}_step-{step_fwd}_nsamples-{nSamples}.txt'\n",
    "smmry_k_f = pkl_loc + 'smmrys_' + f_suffix\n",
    "smmry_k_f"
   ]
  },
  {
   "cell_type": "code",
   "execution_count": 18,
   "metadata": {
    "collapsed": false
   },
   "outputs": [],
   "source": [
    "with open(smmry_k_f, 'wb') as f:\n",
    "    pickle.dump(smmrys_k, f)   "
   ]
  },
  {
   "cell_type": "code",
   "execution_count": 19,
   "metadata": {
    "collapsed": false
   },
   "outputs": [
    {
     "data": {
      "text/plain": [
       "'/home/cam/Documents/Brian_/HDD_folders/_Code/Mixture_Models/BottomPicking/four_etf_agg_ks/dcts_k-multiple_lb-1_step-3_nsamples-1000.txt'"
      ]
     },
     "execution_count": 19,
     "metadata": {},
     "output_type": "execute_result"
    }
   ],
   "source": [
    "dcts_k_f = pkl_loc + 'dcts_' + f_suffix\n",
    "dcts_k_f"
   ]
  },
  {
   "cell_type": "code",
   "execution_count": 20,
   "metadata": {
    "collapsed": false
   },
   "outputs": [],
   "source": [
    "with open(dcts_k_f, 'wb') as f:\n",
    "    pickle.dump(dcts_k, f)   "
   ]
  },
  {
   "cell_type": "code",
   "execution_count": 21,
   "metadata": {
    "collapsed": true
   },
   "outputs": [],
   "source": [
    "postev_k_f = pkl_loc + 'postevs_' + f_suffix"
   ]
  },
  {
   "cell_type": "code",
   "execution_count": 24,
   "metadata": {
    "collapsed": false
   },
   "outputs": [],
   "source": [
    "with open(postev_k_f, 'wb') as f:    \n",
    "    pickle.dump(postev_k, f)"
   ]
  },
  {
   "cell_type": "code",
   "execution_count": 25,
   "metadata": {
    "collapsed": true
   },
   "outputs": [],
   "source": [
    "evs_k_f = pkl_loc + 'evs_' + f_suffix"
   ]
  },
  {
   "cell_type": "code",
   "execution_count": 26,
   "metadata": {
    "collapsed": true
   },
   "outputs": [],
   "source": [
    "with open(evs_k_f, 'wb') as f:    \n",
    "    pickle.dump(evs_k, f)"
   ]
  },
  {
   "cell_type": "code",
   "execution_count": 29,
   "metadata": {
    "collapsed": true
   },
   "outputs": [],
   "source": [
    "agg_dfs_k_f = pkl_loc + 'aggs_dfs_' + f_suffix"
   ]
  },
  {
   "cell_type": "code",
   "execution_count": 30,
   "metadata": {
    "collapsed": false
   },
   "outputs": [],
   "source": [
    "with open(agg_dfs_k_f, 'wb') as f:\n",
    "    pickle.dump(agg_dfs_k, f)"
   ]
  },
  {
   "cell_type": "code",
   "execution_count": 185,
   "metadata": {
    "collapsed": true
   },
   "outputs": [],
   "source": [
    "#with open(DIR + 'lookback1step5k16/lb1_s5_k16_agg_dfs.txt', 'rb') as f:\n",
    "#    adt = pickle.load(f)"
   ]
  },
  {
   "cell_type": "code",
   "execution_count": 31,
   "metadata": {
    "collapsed": false,
    "scrolled": true
   },
   "outputs": [],
   "source": [
    "with open(agg_dfs_k_f, 'rb') as f:\n",
    "    adk = pickle.load(f)"
   ]
  },
  {
   "cell_type": "code",
   "execution_count": 43,
   "metadata": {
    "collapsed": false
   },
   "outputs": [
    {
     "data": {
      "text/plain": [
       "<matplotlib.axes._subplots.AxesSubplot at 0x7f3fe0498240>"
      ]
     },
     "execution_count": 43,
     "metadata": {},
     "output_type": "execute_result"
    },
    {
     "data": {
      "image/png": "[encoded data removed]",
      "text/plain": [
       "<matplotlib.figure.Figure at 0x7f3fe0708128>"
      ]
     },
     "metadata": {},
     "output_type": "display_data"
    }
   ],
   "source": []
  },
  {
   "cell_type": "code",
   "execution_count": 126,
   "metadata": {
    "collapsed": false
   },
   "outputs": [
    {
     "data": {
      "text/plain": [
       "-2.051158500444514"
      ]
     },
     "execution_count": 126,
     "metadata": {},
     "output_type": "execute_result"
    }
   ],
   "source": [
    "evs[0]\n",
    "\n",
    "sums = {}\n",
    "for ev in evs:\n",
    "    sym, symev = ev\n",
    "    sums[sym] = sum(symev)\n",
    "\n",
    "sum(list(sums.values()))"
   ]
  },
  {
   "cell_type": "code",
   "execution_count": 111,
   "metadata": {
    "collapsed": false
   },
   "outputs": [
    {
     "data": {
      "text/html": [
       "<div>\n",
       "<table border=\"1\" class=\"dataframe\">\n",
       "  <thead>\n",
       "    <tr style=\"text-align: right;\">\n",
       "      <th></th>\n",
       "      <th>DBA</th>\n",
       "      <th>DBC</th>\n",
       "      <th>DIA</th>\n",
       "      <th>EEM</th>\n",
       "      <th>EFA</th>\n",
       "      <th>EWA</th>\n",
       "      <th>EWC</th>\n",
       "      <th>EWG</th>\n",
       "      <th>EWH</th>\n",
       "      <th>EWJ</th>\n",
       "      <th>...</th>\n",
       "      <th>IGE</th>\n",
       "      <th>QQQ</th>\n",
       "      <th>SPY</th>\n",
       "      <th>TLT</th>\n",
       "      <th>USO</th>\n",
       "      <th>VGK</th>\n",
       "      <th>XME</th>\n",
       "      <th>^FVX</th>\n",
       "      <th>^TNX</th>\n",
       "      <th>^TYX</th>\n",
       "    </tr>\n",
       "    <tr>\n",
       "      <th>Dates</th>\n",
       "      <th></th>\n",
       "      <th></th>\n",
       "      <th></th>\n",
       "      <th></th>\n",
       "      <th></th>\n",
       "      <th></th>\n",
       "      <th></th>\n",
       "      <th></th>\n",
       "      <th></th>\n",
       "      <th></th>\n",
       "      <th></th>\n",
       "      <th></th>\n",
       "      <th></th>\n",
       "      <th></th>\n",
       "      <th></th>\n",
       "      <th></th>\n",
       "      <th></th>\n",
       "      <th></th>\n",
       "      <th></th>\n",
       "      <th></th>\n",
       "      <th></th>\n",
       "    </tr>\n",
       "  </thead>\n",
       "  <tbody>\n",
       "    <tr>\n",
       "      <th>2009-03-18</th>\n",
       "      <td>NaN</td>\n",
       "      <td>NaN</td>\n",
       "      <td>NaN</td>\n",
       "      <td>NaN</td>\n",
       "      <td>NaN</td>\n",
       "      <td>NaN</td>\n",
       "      <td>NaN</td>\n",
       "      <td>NaN</td>\n",
       "      <td>NaN</td>\n",
       "      <td>NaN</td>\n",
       "      <td>...</td>\n",
       "      <td>NaN</td>\n",
       "      <td>NaN</td>\n",
       "      <td>NaN</td>\n",
       "      <td>NaN</td>\n",
       "      <td>NaN</td>\n",
       "      <td>NaN</td>\n",
       "      <td>NaN</td>\n",
       "      <td>0.171217</td>\n",
       "      <td>NaN</td>\n",
       "      <td>NaN</td>\n",
       "    </tr>\n",
       "    <tr>\n",
       "      <th>2009-03-19</th>\n",
       "      <td>NaN</td>\n",
       "      <td>NaN</td>\n",
       "      <td>NaN</td>\n",
       "      <td>NaN</td>\n",
       "      <td>NaN</td>\n",
       "      <td>NaN</td>\n",
       "      <td>NaN</td>\n",
       "      <td>NaN</td>\n",
       "      <td>NaN</td>\n",
       "      <td>NaN</td>\n",
       "      <td>...</td>\n",
       "      <td>NaN</td>\n",
       "      <td>NaN</td>\n",
       "      <td>NaN</td>\n",
       "      <td>NaN</td>\n",
       "      <td>NaN</td>\n",
       "      <td>NaN</td>\n",
       "      <td>NaN</td>\n",
       "      <td>0.248056</td>\n",
       "      <td>NaN</td>\n",
       "      <td>NaN</td>\n",
       "    </tr>\n",
       "    <tr>\n",
       "      <th>2009-03-20</th>\n",
       "      <td>NaN</td>\n",
       "      <td>NaN</td>\n",
       "      <td>NaN</td>\n",
       "      <td>NaN</td>\n",
       "      <td>NaN</td>\n",
       "      <td>NaN</td>\n",
       "      <td>NaN</td>\n",
       "      <td>NaN</td>\n",
       "      <td>NaN</td>\n",
       "      <td>NaN</td>\n",
       "      <td>...</td>\n",
       "      <td>NaN</td>\n",
       "      <td>NaN</td>\n",
       "      <td>NaN</td>\n",
       "      <td>NaN</td>\n",
       "      <td>NaN</td>\n",
       "      <td>NaN</td>\n",
       "      <td>NaN</td>\n",
       "      <td>0.249278</td>\n",
       "      <td>NaN</td>\n",
       "      <td>NaN</td>\n",
       "    </tr>\n",
       "    <tr>\n",
       "      <th>2009-03-23</th>\n",
       "      <td>NaN</td>\n",
       "      <td>NaN</td>\n",
       "      <td>NaN</td>\n",
       "      <td>NaN</td>\n",
       "      <td>NaN</td>\n",
       "      <td>NaN</td>\n",
       "      <td>NaN</td>\n",
       "      <td>NaN</td>\n",
       "      <td>NaN</td>\n",
       "      <td>NaN</td>\n",
       "      <td>...</td>\n",
       "      <td>NaN</td>\n",
       "      <td>NaN</td>\n",
       "      <td>NaN</td>\n",
       "      <td>NaN</td>\n",
       "      <td>NaN</td>\n",
       "      <td>NaN</td>\n",
       "      <td>NaN</td>\n",
       "      <td>0.275191</td>\n",
       "      <td>NaN</td>\n",
       "      <td>NaN</td>\n",
       "    </tr>\n",
       "    <tr>\n",
       "      <th>2010-11-04</th>\n",
       "      <td>NaN</td>\n",
       "      <td>NaN</td>\n",
       "      <td>NaN</td>\n",
       "      <td>NaN</td>\n",
       "      <td>NaN</td>\n",
       "      <td>NaN</td>\n",
       "      <td>NaN</td>\n",
       "      <td>NaN</td>\n",
       "      <td>NaN</td>\n",
       "      <td>NaN</td>\n",
       "      <td>...</td>\n",
       "      <td>NaN</td>\n",
       "      <td>NaN</td>\n",
       "      <td>NaN</td>\n",
       "      <td>NaN</td>\n",
       "      <td>NaN</td>\n",
       "      <td>NaN</td>\n",
       "      <td>NaN</td>\n",
       "      <td>0.275191</td>\n",
       "      <td>NaN</td>\n",
       "      <td>NaN</td>\n",
       "    </tr>\n",
       "    <tr>\n",
       "      <th>2010-11-05</th>\n",
       "      <td>NaN</td>\n",
       "      <td>NaN</td>\n",
       "      <td>NaN</td>\n",
       "      <td>NaN</td>\n",
       "      <td>NaN</td>\n",
       "      <td>NaN</td>\n",
       "      <td>NaN</td>\n",
       "      <td>NaN</td>\n",
       "      <td>NaN</td>\n",
       "      <td>NaN</td>\n",
       "      <td>...</td>\n",
       "      <td>NaN</td>\n",
       "      <td>NaN</td>\n",
       "      <td>NaN</td>\n",
       "      <td>NaN</td>\n",
       "      <td>NaN</td>\n",
       "      <td>NaN</td>\n",
       "      <td>NaN</td>\n",
       "      <td>0.335416</td>\n",
       "      <td>NaN</td>\n",
       "      <td>NaN</td>\n",
       "    </tr>\n",
       "    <tr>\n",
       "      <th>2010-11-08</th>\n",
       "      <td>NaN</td>\n",
       "      <td>NaN</td>\n",
       "      <td>NaN</td>\n",
       "      <td>NaN</td>\n",
       "      <td>NaN</td>\n",
       "      <td>NaN</td>\n",
       "      <td>NaN</td>\n",
       "      <td>NaN</td>\n",
       "      <td>NaN</td>\n",
       "      <td>NaN</td>\n",
       "      <td>...</td>\n",
       "      <td>NaN</td>\n",
       "      <td>NaN</td>\n",
       "      <td>NaN</td>\n",
       "      <td>NaN</td>\n",
       "      <td>NaN</td>\n",
       "      <td>NaN</td>\n",
       "      <td>NaN</td>\n",
       "      <td>0.366879</td>\n",
       "      <td>NaN</td>\n",
       "      <td>NaN</td>\n",
       "    </tr>\n",
       "    <tr>\n",
       "      <th>2010-11-09</th>\n",
       "      <td>NaN</td>\n",
       "      <td>NaN</td>\n",
       "      <td>NaN</td>\n",
       "      <td>NaN</td>\n",
       "      <td>NaN</td>\n",
       "      <td>NaN</td>\n",
       "      <td>NaN</td>\n",
       "      <td>NaN</td>\n",
       "      <td>NaN</td>\n",
       "      <td>NaN</td>\n",
       "      <td>...</td>\n",
       "      <td>NaN</td>\n",
       "      <td>NaN</td>\n",
       "      <td>NaN</td>\n",
       "      <td>NaN</td>\n",
       "      <td>NaN</td>\n",
       "      <td>NaN</td>\n",
       "      <td>NaN</td>\n",
       "      <td>0.471797</td>\n",
       "      <td>NaN</td>\n",
       "      <td>NaN</td>\n",
       "    </tr>\n",
       "    <tr>\n",
       "      <th>2011-07-29</th>\n",
       "      <td>NaN</td>\n",
       "      <td>NaN</td>\n",
       "      <td>NaN</td>\n",
       "      <td>NaN</td>\n",
       "      <td>NaN</td>\n",
       "      <td>NaN</td>\n",
       "      <td>NaN</td>\n",
       "      <td>NaN</td>\n",
       "      <td>NaN</td>\n",
       "      <td>NaN</td>\n",
       "      <td>...</td>\n",
       "      <td>NaN</td>\n",
       "      <td>NaN</td>\n",
       "      <td>NaN</td>\n",
       "      <td>NaN</td>\n",
       "      <td>NaN</td>\n",
       "      <td>NaN</td>\n",
       "      <td>NaN</td>\n",
       "      <td>0.471797</td>\n",
       "      <td>NaN</td>\n",
       "      <td>NaN</td>\n",
       "    </tr>\n",
       "    <tr>\n",
       "      <th>2011-08-01</th>\n",
       "      <td>NaN</td>\n",
       "      <td>NaN</td>\n",
       "      <td>NaN</td>\n",
       "      <td>NaN</td>\n",
       "      <td>NaN</td>\n",
       "      <td>NaN</td>\n",
       "      <td>NaN</td>\n",
       "      <td>NaN</td>\n",
       "      <td>NaN</td>\n",
       "      <td>NaN</td>\n",
       "      <td>...</td>\n",
       "      <td>NaN</td>\n",
       "      <td>NaN</td>\n",
       "      <td>NaN</td>\n",
       "      <td>NaN</td>\n",
       "      <td>NaN</td>\n",
       "      <td>NaN</td>\n",
       "      <td>NaN</td>\n",
       "      <td>0.427875</td>\n",
       "      <td>NaN</td>\n",
       "      <td>NaN</td>\n",
       "    </tr>\n",
       "    <tr>\n",
       "      <th>2011-08-02</th>\n",
       "      <td>NaN</td>\n",
       "      <td>NaN</td>\n",
       "      <td>NaN</td>\n",
       "      <td>NaN</td>\n",
       "      <td>NaN</td>\n",
       "      <td>NaN</td>\n",
       "      <td>NaN</td>\n",
       "      <td>NaN</td>\n",
       "      <td>NaN</td>\n",
       "      <td>NaN</td>\n",
       "      <td>...</td>\n",
       "      <td>NaN</td>\n",
       "      <td>NaN</td>\n",
       "      <td>NaN</td>\n",
       "      <td>NaN</td>\n",
       "      <td>NaN</td>\n",
       "      <td>NaN</td>\n",
       "      <td>NaN</td>\n",
       "      <td>0.360186</td>\n",
       "      <td>NaN</td>\n",
       "      <td>NaN</td>\n",
       "    </tr>\n",
       "    <tr>\n",
       "      <th>2011-08-03</th>\n",
       "      <td>NaN</td>\n",
       "      <td>NaN</td>\n",
       "      <td>NaN</td>\n",
       "      <td>NaN</td>\n",
       "      <td>NaN</td>\n",
       "      <td>NaN</td>\n",
       "      <td>NaN</td>\n",
       "      <td>NaN</td>\n",
       "      <td>NaN</td>\n",
       "      <td>NaN</td>\n",
       "      <td>...</td>\n",
       "      <td>NaN</td>\n",
       "      <td>NaN</td>\n",
       "      <td>NaN</td>\n",
       "      <td>NaN</td>\n",
       "      <td>NaN</td>\n",
       "      <td>NaN</td>\n",
       "      <td>NaN</td>\n",
       "      <td>0.369103</td>\n",
       "      <td>NaN</td>\n",
       "      <td>NaN</td>\n",
       "    </tr>\n",
       "    <tr>\n",
       "      <th>2011-08-08</th>\n",
       "      <td>NaN</td>\n",
       "      <td>NaN</td>\n",
       "      <td>NaN</td>\n",
       "      <td>NaN</td>\n",
       "      <td>NaN</td>\n",
       "      <td>NaN</td>\n",
       "      <td>NaN</td>\n",
       "      <td>NaN</td>\n",
       "      <td>NaN</td>\n",
       "      <td>NaN</td>\n",
       "      <td>...</td>\n",
       "      <td>NaN</td>\n",
       "      <td>NaN</td>\n",
       "      <td>NaN</td>\n",
       "      <td>NaN</td>\n",
       "      <td>NaN</td>\n",
       "      <td>NaN</td>\n",
       "      <td>NaN</td>\n",
       "      <td>0.369103</td>\n",
       "      <td>NaN</td>\n",
       "      <td>NaN</td>\n",
       "    </tr>\n",
       "    <tr>\n",
       "      <th>2011-08-09</th>\n",
       "      <td>NaN</td>\n",
       "      <td>NaN</td>\n",
       "      <td>NaN</td>\n",
       "      <td>NaN</td>\n",
       "      <td>NaN</td>\n",
       "      <td>NaN</td>\n",
       "      <td>NaN</td>\n",
       "      <td>NaN</td>\n",
       "      <td>NaN</td>\n",
       "      <td>NaN</td>\n",
       "      <td>...</td>\n",
       "      <td>NaN</td>\n",
       "      <td>NaN</td>\n",
       "      <td>NaN</td>\n",
       "      <td>NaN</td>\n",
       "      <td>NaN</td>\n",
       "      <td>NaN</td>\n",
       "      <td>NaN</td>\n",
       "      <td>0.212814</td>\n",
       "      <td>NaN</td>\n",
       "      <td>NaN</td>\n",
       "    </tr>\n",
       "    <tr>\n",
       "      <th>2011-08-10</th>\n",
       "      <td>NaN</td>\n",
       "      <td>NaN</td>\n",
       "      <td>NaN</td>\n",
       "      <td>NaN</td>\n",
       "      <td>NaN</td>\n",
       "      <td>NaN</td>\n",
       "      <td>NaN</td>\n",
       "      <td>NaN</td>\n",
       "      <td>NaN</td>\n",
       "      <td>NaN</td>\n",
       "      <td>...</td>\n",
       "      <td>NaN</td>\n",
       "      <td>NaN</td>\n",
       "      <td>NaN</td>\n",
       "      <td>NaN</td>\n",
       "      <td>NaN</td>\n",
       "      <td>NaN</td>\n",
       "      <td>NaN</td>\n",
       "      <td>0.207446</td>\n",
       "      <td>NaN</td>\n",
       "      <td>NaN</td>\n",
       "    </tr>\n",
       "    <tr>\n",
       "      <th>2011-08-11</th>\n",
       "      <td>NaN</td>\n",
       "      <td>NaN</td>\n",
       "      <td>NaN</td>\n",
       "      <td>NaN</td>\n",
       "      <td>NaN</td>\n",
       "      <td>NaN</td>\n",
       "      <td>NaN</td>\n",
       "      <td>NaN</td>\n",
       "      <td>NaN</td>\n",
       "      <td>NaN</td>\n",
       "      <td>...</td>\n",
       "      <td>NaN</td>\n",
       "      <td>NaN</td>\n",
       "      <td>NaN</td>\n",
       "      <td>NaN</td>\n",
       "      <td>NaN</td>\n",
       "      <td>NaN</td>\n",
       "      <td>NaN</td>\n",
       "      <td>0.269020</td>\n",
       "      <td>NaN</td>\n",
       "      <td>NaN</td>\n",
       "    </tr>\n",
       "    <tr>\n",
       "      <th>2011-08-09</th>\n",
       "      <td>NaN</td>\n",
       "      <td>NaN</td>\n",
       "      <td>NaN</td>\n",
       "      <td>NaN</td>\n",
       "      <td>NaN</td>\n",
       "      <td>NaN</td>\n",
       "      <td>NaN</td>\n",
       "      <td>NaN</td>\n",
       "      <td>NaN</td>\n",
       "      <td>NaN</td>\n",
       "      <td>...</td>\n",
       "      <td>NaN</td>\n",
       "      <td>NaN</td>\n",
       "      <td>NaN</td>\n",
       "      <td>NaN</td>\n",
       "      <td>NaN</td>\n",
       "      <td>NaN</td>\n",
       "      <td>NaN</td>\n",
       "      <td>0.269020</td>\n",
       "      <td>NaN</td>\n",
       "      <td>NaN</td>\n",
       "    </tr>\n",
       "    <tr>\n",
       "      <th>2011-08-10</th>\n",
       "      <td>NaN</td>\n",
       "      <td>NaN</td>\n",
       "      <td>NaN</td>\n",
       "      <td>NaN</td>\n",
       "      <td>NaN</td>\n",
       "      <td>NaN</td>\n",
       "      <td>NaN</td>\n",
       "      <td>NaN</td>\n",
       "      <td>NaN</td>\n",
       "      <td>NaN</td>\n",
       "      <td>...</td>\n",
       "      <td>NaN</td>\n",
       "      <td>NaN</td>\n",
       "      <td>NaN</td>\n",
       "      <td>NaN</td>\n",
       "      <td>NaN</td>\n",
       "      <td>NaN</td>\n",
       "      <td>NaN</td>\n",
       "      <td>0.263652</td>\n",
       "      <td>NaN</td>\n",
       "      <td>NaN</td>\n",
       "    </tr>\n",
       "    <tr>\n",
       "      <th>2011-08-11</th>\n",
       "      <td>NaN</td>\n",
       "      <td>NaN</td>\n",
       "      <td>NaN</td>\n",
       "      <td>NaN</td>\n",
       "      <td>NaN</td>\n",
       "      <td>NaN</td>\n",
       "      <td>NaN</td>\n",
       "      <td>NaN</td>\n",
       "      <td>NaN</td>\n",
       "      <td>NaN</td>\n",
       "      <td>...</td>\n",
       "      <td>NaN</td>\n",
       "      <td>NaN</td>\n",
       "      <td>NaN</td>\n",
       "      <td>NaN</td>\n",
       "      <td>NaN</td>\n",
       "      <td>NaN</td>\n",
       "      <td>NaN</td>\n",
       "      <td>0.325226</td>\n",
       "      <td>NaN</td>\n",
       "      <td>NaN</td>\n",
       "    </tr>\n",
       "    <tr>\n",
       "      <th>2011-08-12</th>\n",
       "      <td>NaN</td>\n",
       "      <td>NaN</td>\n",
       "      <td>NaN</td>\n",
       "      <td>NaN</td>\n",
       "      <td>NaN</td>\n",
       "      <td>NaN</td>\n",
       "      <td>NaN</td>\n",
       "      <td>NaN</td>\n",
       "      <td>NaN</td>\n",
       "      <td>NaN</td>\n",
       "      <td>...</td>\n",
       "      <td>NaN</td>\n",
       "      <td>NaN</td>\n",
       "      <td>NaN</td>\n",
       "      <td>NaN</td>\n",
       "      <td>NaN</td>\n",
       "      <td>NaN</td>\n",
       "      <td>NaN</td>\n",
       "      <td>0.279670</td>\n",
       "      <td>NaN</td>\n",
       "      <td>NaN</td>\n",
       "    </tr>\n",
       "  </tbody>\n",
       "</table>\n",
       "<p>20 rows × 25 columns</p>\n",
       "</div>"
      ],
      "text/plain": [
       "            DBA  DBC  DIA  EEM  EFA  EWA  EWC  EWG  EWH  EWJ  ...   IGE  QQQ  \\\n",
       "Dates                                                         ...              \n",
       "2009-03-18  NaN  NaN  NaN  NaN  NaN  NaN  NaN  NaN  NaN  NaN  ...   NaN  NaN   \n",
       "2009-03-19  NaN  NaN  NaN  NaN  NaN  NaN  NaN  NaN  NaN  NaN  ...   NaN  NaN   \n",
       "2009-03-20  NaN  NaN  NaN  NaN  NaN  NaN  NaN  NaN  NaN  NaN  ...   NaN  NaN   \n",
       "2009-03-23  NaN  NaN  NaN  NaN  NaN  NaN  NaN  NaN  NaN  NaN  ...   NaN  NaN   \n",
       "2010-11-04  NaN  NaN  NaN  NaN  NaN  NaN  NaN  NaN  NaN  NaN  ...   NaN  NaN   \n",
       "2010-11-05  NaN  NaN  NaN  NaN  NaN  NaN  NaN  NaN  NaN  NaN  ...   NaN  NaN   \n",
       "2010-11-08  NaN  NaN  NaN  NaN  NaN  NaN  NaN  NaN  NaN  NaN  ...   NaN  NaN   \n",
       "2010-11-09  NaN  NaN  NaN  NaN  NaN  NaN  NaN  NaN  NaN  NaN  ...   NaN  NaN   \n",
       "2011-07-29  NaN  NaN  NaN  NaN  NaN  NaN  NaN  NaN  NaN  NaN  ...   NaN  NaN   \n",
       "2011-08-01  NaN  NaN  NaN  NaN  NaN  NaN  NaN  NaN  NaN  NaN  ...   NaN  NaN   \n",
       "2011-08-02  NaN  NaN  NaN  NaN  NaN  NaN  NaN  NaN  NaN  NaN  ...   NaN  NaN   \n",
       "2011-08-03  NaN  NaN  NaN  NaN  NaN  NaN  NaN  NaN  NaN  NaN  ...   NaN  NaN   \n",
       "2011-08-08  NaN  NaN  NaN  NaN  NaN  NaN  NaN  NaN  NaN  NaN  ...   NaN  NaN   \n",
       "2011-08-09  NaN  NaN  NaN  NaN  NaN  NaN  NaN  NaN  NaN  NaN  ...   NaN  NaN   \n",
       "2011-08-10  NaN  NaN  NaN  NaN  NaN  NaN  NaN  NaN  NaN  NaN  ...   NaN  NaN   \n",
       "2011-08-11  NaN  NaN  NaN  NaN  NaN  NaN  NaN  NaN  NaN  NaN  ...   NaN  NaN   \n",
       "2011-08-09  NaN  NaN  NaN  NaN  NaN  NaN  NaN  NaN  NaN  NaN  ...   NaN  NaN   \n",
       "2011-08-10  NaN  NaN  NaN  NaN  NaN  NaN  NaN  NaN  NaN  NaN  ...   NaN  NaN   \n",
       "2011-08-11  NaN  NaN  NaN  NaN  NaN  NaN  NaN  NaN  NaN  NaN  ...   NaN  NaN   \n",
       "2011-08-12  NaN  NaN  NaN  NaN  NaN  NaN  NaN  NaN  NaN  NaN  ...   NaN  NaN   \n",
       "\n",
       "            SPY  TLT  USO  VGK  XME      ^FVX  ^TNX  ^TYX  \n",
       "Dates                                                      \n",
       "2009-03-18  NaN  NaN  NaN  NaN  NaN  0.171217   NaN   NaN  \n",
       "2009-03-19  NaN  NaN  NaN  NaN  NaN  0.248056   NaN   NaN  \n",
       "2009-03-20  NaN  NaN  NaN  NaN  NaN  0.249278   NaN   NaN  \n",
       "2009-03-23  NaN  NaN  NaN  NaN  NaN  0.275191   NaN   NaN  \n",
       "2010-11-04  NaN  NaN  NaN  NaN  NaN  0.275191   NaN   NaN  \n",
       "2010-11-05  NaN  NaN  NaN  NaN  NaN  0.335416   NaN   NaN  \n",
       "2010-11-08  NaN  NaN  NaN  NaN  NaN  0.366879   NaN   NaN  \n",
       "2010-11-09  NaN  NaN  NaN  NaN  NaN  0.471797   NaN   NaN  \n",
       "2011-07-29  NaN  NaN  NaN  NaN  NaN  0.471797   NaN   NaN  \n",
       "2011-08-01  NaN  NaN  NaN  NaN  NaN  0.427875   NaN   NaN  \n",
       "2011-08-02  NaN  NaN  NaN  NaN  NaN  0.360186   NaN   NaN  \n",
       "2011-08-03  NaN  NaN  NaN  NaN  NaN  0.369103   NaN   NaN  \n",
       "2011-08-08  NaN  NaN  NaN  NaN  NaN  0.369103   NaN   NaN  \n",
       "2011-08-09  NaN  NaN  NaN  NaN  NaN  0.212814   NaN   NaN  \n",
       "2011-08-10  NaN  NaN  NaN  NaN  NaN  0.207446   NaN   NaN  \n",
       "2011-08-11  NaN  NaN  NaN  NaN  NaN  0.269020   NaN   NaN  \n",
       "2011-08-09  NaN  NaN  NaN  NaN  NaN  0.269020   NaN   NaN  \n",
       "2011-08-10  NaN  NaN  NaN  NaN  NaN  0.263652   NaN   NaN  \n",
       "2011-08-11  NaN  NaN  NaN  NaN  NaN  0.325226   NaN   NaN  \n",
       "2011-08-12  NaN  NaN  NaN  NaN  NaN  0.279670   NaN   NaN  \n",
       "\n",
       "[20 rows x 25 columns]"
      ]
     },
     "execution_count": 111,
     "metadata": {},
     "output_type": "execute_result"
    }
   ],
   "source": [
    "dfs_list = []\n",
    "for item in agg_dfs:\n",
    "    sym, dat = item\n",
    "    dat = dat.rename(sym).to_frame()\n",
    "    dfs_list.append(dat)\n",
    "test = pd.concat(dfs_list, axis=0, join_axes=)\n",
    "test.tail(20)"
   ]
  },
  {
   "cell_type": "code",
   "execution_count": 113,
   "metadata": {
    "collapsed": false
   },
   "outputs": [],
   "source": [
    "max_idx = []\n",
    "for df in dfs_list:\n",
    "    if len(max_idx) <= len(df.index):\n",
    "        max_idx = df.index"
   ]
  },
  {
   "cell_type": "code",
   "execution_count": 115,
   "metadata": {
    "collapsed": false
   },
   "outputs": [
    {
     "data": {
      "text/plain": [
       "DatetimeIndex(['2008-01-04', '2008-01-07', '2008-01-08', '2008-01-09',\n",
       "               '2008-01-17', '2008-01-18', '2008-01-22', '2008-01-23',\n",
       "               '2008-02-05', '2008-02-06',\n",
       "               ...\n",
       "               '2016-09-15', '2016-09-16', '2016-09-29', '2016-09-30',\n",
       "               '2016-10-03', '2016-10-04', '2016-10-11', '2016-10-12',\n",
       "               '2016-10-13', '2016-10-14'],\n",
       "              dtype='datetime64[ns]', name='Dates', length=856, freq=None)"
      ]
     },
     "execution_count": 115,
     "metadata": {},
     "output_type": "execute_result"
    }
   ],
   "source": [
    "max_idx"
   ]
  },
  {
   "cell_type": "code",
   "execution_count": null,
   "metadata": {
    "collapsed": false
   },
   "outputs": [],
   "source": [
    "cutoff = year\n",
    "train_df = tmp_data.ix[str(cutoff - lookback):str(cutoff)].dropna()\n",
    "oos = tmp_data.ix[str(cutoff+1):].dropna()\n",
    "# confirm that train_df end index is different than oos start index\n",
    "assert train_df.index[-1] != oos.index[0]\n",
    "oos.head()\n",
    "\n",
    "i=0\n",
    "for t in tqdm(oos.index):\n",
    "    if i == 2:\n",
    "        break\n",
    "    p(tmp_data.ix[:t].tail())\n",
    "    i+=1\n"
   ]
  },
  {
   "cell_type": "code",
   "execution_count": null,
   "metadata": {
    "collapsed": false
   },
   "outputs": [],
   "source": [
    "# create pred list to hold tuple rows\n",
    "preds = []\n",
    "for t in tqdm(oos.index):\n",
    "    if t == oos.index[0]:\n",
    "        insample = train_df\n",
    "\n",
    "    # run model func to return model object and hidden states using params\n",
    "    model, hstates = self._run_model(**kwargs)\n",
    "    # get hidden state mean and variance\n",
    "    mr_i, mvar_i = self._get_state_est(model, hstates)\n",
    "    # get confidence intervals from sampled distribution\n",
    "    low_ci, high_ci = self._get_ci(mr_i, mvar_i, alpha, a, b, nSamples)\n",
    "    #low_ci, high_ci = self._get_mf_ci(mr_i, mvar_i, alpha, a, b, nSamples, bins)\n",
    "    # append tuple row to pred list\n",
    "    preds.append((t, hstates[-1], mr_i, mvar_i, low_ci, high_ci))\n",
    "\n",
    "    # increment insample dataframe \n",
    "    insample = self.data.ix[:t]"
   ]
  },
  {
   "cell_type": "code",
   "execution_count": null,
   "metadata": {
    "collapsed": false
   },
   "outputs": [],
   "source": [
    "test[ft_cols].ix[str(year):].head()"
   ]
  },
  {
   "cell_type": "code",
   "execution_count": null,
   "metadata": {
    "collapsed": false
   },
   "outputs": [],
   "source": [
    "\n"
   ]
  },
  {
   "cell_type": "code",
   "execution_count": null,
   "metadata": {
    "collapsed": false
   },
   "outputs": [],
   "source": [
    "end_vals"
   ]
  },
  {
   "cell_type": "code",
   "execution_count": null,
   "metadata": {
    "collapsed": false,
    "scrolled": true
   },
   "outputs": [],
   "source": [
    "\n",
    "\n",
    "too_high_dates = df.query(\"tgt > high_ci\")['Dates']\n",
    "too_low_dates = df.query(\"tgt < low_ci\")['Dates']"
   ]
  },
  {
   "cell_type": "code",
   "execution_count": null,
   "metadata": {
    "collapsed": false,
    "scrolled": true
   },
   "outputs": [],
   "source": [
    "dir(too_high_dates.diff().iloc[1])"
   ]
  },
  {
   "cell_type": "code",
   "execution_count": null,
   "metadata": {
    "collapsed": false
   },
   "outputs": [],
   "source": [
    "t = too_high_dates.diff()\n",
    "\n",
    "cnt = 0\n",
    "for dt in t:\n",
    "    try:\n",
    "        if dt.days < step_fwd:\n",
    "            cnt += 1\n",
    "    except: continue\n",
    "print(cnt)        "
   ]
  },
  {
   "cell_type": "code",
   "execution_count": null,
   "metadata": {
    "collapsed": false
   },
   "outputs": [],
   "source": [
    "cnt / t.shape[0]\n",
    "\n"
   ]
  },
  {
   "cell_type": "code",
   "execution_count": null,
   "metadata": {
    "collapsed": true
   },
   "outputs": [],
   "source": [
    "for name, hex in mpl.colors.cnames.items():\n",
    "    print(name, hex)"
   ]
  },
  {
   "cell_type": "code",
   "execution_count": null,
   "metadata": {
    "collapsed": false,
    "scrolled": true
   },
   "outputs": [],
   "source": [
    "# code sample from:\n",
    "#   http://www.aizac.info/simple-check-of-a-sample-against-80-distributions/\n",
    "\n",
    "cdfs = [\n",
    "    \"norm\",            #Normal (Gaussian)\n",
    "    \"alpha\",           #Alpha\n",
    "    \"anglit\",          #Anglit\n",
    "    \"arcsine\",         #Arcsine\n",
    "    \"beta\",            #Beta\n",
    "    \"betaprime\",       #Beta Prime\n",
    "    \"bradford\",        #Bradford\n",
    "    \"burr\",            #Burr\n",
    "    \"cauchy\",          #Cauchy\n",
    "    \"chi\",             #Chi\n",
    "    \"chi2\",            #Chi-squared\n",
    "    \"cosine\",          #Cosine\n",
    "    \"dgamma\",          #Double Gamma\n",
    "    \"dweibull\",        #Double Weibull\n",
    "    \"erlang\",          #Erlang\n",
    "    \"expon\",           #Exponential\n",
    "    \"exponweib\",       #Exponentiated Weibull\n",
    "    \"exponpow\",        #Exponential Power\n",
    "    \"fatiguelife\",     #Fatigue Life (Birnbaum-Sanders)\n",
    "    \"foldcauchy\",      #Folded Cauchy\n",
    "    \"f\",               #F (Snecdor F)\n",
    "    \"fisk\",            #Fisk\n",
    "    \"foldnorm\",        #Folded Normal\n",
    "    \"frechet_r\",       #Frechet Right Sided, Extreme Value Type II\n",
    "    \"frechet_l\",       #Frechet Left Sided, Weibull_max\n",
    "    \"gamma\",           #Gamma\n",
    "    \"gausshyper\",      #Gauss Hypergeometric\n",
    "    \"genexpon\",        #Generalized Exponential\n",
    "    \"genextreme\",      #Generalized Extreme Value\n",
    "    \"gengamma\",        #Generalized gamma\n",
    "    \"genlogistic\",     #Generalized Logistic\n",
    "    \"genpareto\",       #Generalized Pareto\n",
    "    \"genhalflogistic\", #Generalized Half Logistic\n",
    "    \"gilbrat\",         #Gilbrat\n",
    "    \"gompertz\",        #Gompertz (Truncated Gumbel)\n",
    "    \"gumbel_l\",        #Left Sided Gumbel, etc.\n",
    "    \"gumbel_r\",        #Right Sided Gumbel\n",
    "    \"halfcauchy\",      #Half Cauchy\n",
    "    \"halflogistic\",    #Half Logistic\n",
    "    \"halfnorm\",        #Half Normal\n",
    "    \"hypsecant\",       #Hyperbolic Secant\n",
    "    \"invgamma\",        #Inverse Gamma\n",
    "    \"invnorm\",         #Inverse Normal\n",
    "    \"invweibull\",      #Inverse Weibull\n",
    "    \"johnsonsb\",       #Johnson SB\n",
    "    \"johnsonsu\",       #Johnson SU\n",
    "    \"laplace\",         #Laplace\n",
    "    \"logistic\",        #Logistic\n",
    "    \"loggamma\",        #Log-Gamma\n",
    "    \"loglaplace\",      #Log-Laplace (Log Double Exponential)\n",
    "    \"lognorm\",         #Log-Normal\n",
    "    \"lomax\",           #Lomax (Pareto of the second kind)\n",
    "    \"maxwell\",         #Maxwell\n",
    "    \"mielke\",          #Mielke's Beta-Kappa\n",
    "    \"nakagami\",        #Nakagami\n",
    "    \"ncx2\",            #Non-central chi-squared\n",
    "#    \"ncf\",             #Non-central F\n",
    "    \"nct\",             #Non-central Student's T\n",
    "    \"norm\"           # Normal\n",
    "    \"pareto\",          #Pareto\n",
    "    \"powerlaw\",        #Power-function\n",
    "    \"powerlognorm\",    #Power log normal\n",
    "    \"powernorm\",       #Power normal\n",
    "    \"rdist\",           #R distribution\n",
    "    \"reciprocal\",      #Reciprocal\n",
    "    \"rayleigh\",        #Rayleigh\n",
    "    \"rice\",            #Rice\n",
    "    \"recipinvgauss\",   #Reciprocal Inverse Gaussian\n",
    "    \"semicircular\",    #Semicircular\n",
    "    \"t\",               #Student's T\n",
    "    \"triang\",          #Triangular\n",
    "    \"truncexpon\",      #Truncated Exponential\n",
    "    \"truncnorm\",       #Truncated Normal\n",
    "    \"tukeylambda\",     #Tukey-Lambda\n",
    "    \"uniform\",         #Uniform\n",
    "    \"vonmises\",        #Von-Mises (Circular)\n",
    "    \"wald\",            #Wald\n",
    "    \"weibull_min\",     #Minimum Weibull (see Frechet)\n",
    "    \"weibull_max\",     #Maximum Weibull (see Frechet)\n",
    "    \"wrapcauchy\",      #Wrapped Cauchy\n",
    "    \"ksone\",           #Kolmogorov-Smirnov one-sided (no stats)\n",
    "    \"kstwobign\"]       #Kolmogorov-Smirnov two-sided test for Large N\n",
    "\n",
    "sample = data['lret'].values\n",
    "for cdf in cdfs:\n",
    "    try:\n",
    "        #fit our data set against every probability distribution\n",
    "        parameters = eval(\"scs.\"+cdf+\".fit(sample)\");\n",
    "\n",
    "        #Applying the Kolmogorov-Smirnof one sided test\n",
    "        D, p = scs.kstest(sample, cdf, args=parameters);\n",
    "\n",
    "        #pretty-print the results\n",
    "        D = round(D, 5)\n",
    "        p = round(p, 5)\n",
    "        \n",
    "        #pretty-print the results\n",
    "        print (cdf.ljust(16) + (\"p: \"+str(p)).ljust(25)+\"D: \"+str(D));\n",
    "    except: continue\n",
    "    "
   ]
  },
  {
   "cell_type": "code",
   "execution_count": null,
   "metadata": {
    "collapsed": false
   },
   "outputs": [],
   "source": [
    "cdf = 'cdf'\n",
    "p = 0.00434234\n",
    "D = 23.54023444\n",
    "\n",
    "\n",
    "print (\"{:{align}} p:{:{width}.{prec}f}\".format(cdf, p, width=16, align='<', prec=5))# p: {p:.5f} D: {D:.5f}\""
   ]
  },
  {
   "cell_type": "code",
   "execution_count": null,
   "metadata": {
    "collapsed": true
   },
   "outputs": [],
   "source": []
  }
 ],
 "metadata": {
  "kernelspec": {
   "display_name": "Python 3",
   "language": "python",
   "name": "python3"
  },
  "language_info": {
   "codemirror_mode": {
    "name": "ipython",
    "version": 3
   },
   "file_extension": ".py",
   "mimetype": "text/x-python",
   "name": "python",
   "nbconvert_exporter": "python",
   "pygments_lexer": "ipython3",
   "version": "3.6.0"
  }
 },
 "nbformat": 4,
 "nbformat_minor": 2
}
